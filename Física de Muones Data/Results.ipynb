{
 "cells": [
  {
   "cell_type": "code",
   "execution_count": 278,
   "metadata": {},
   "outputs": [],
   "source": [
    "import numpy as np\n",
    "import matplotlib.pyplot as plt\n",
    "import sympy as sym\n",
    "from matplotlib import rc\n",
    "import pandas as pd\n",
    "import os.path as path\n",
    "from tqdm import tqdm\n",
    "import scipy\n",
    "from scipy.stats import linregress\n",
    "from scipy.integrate import quad, dblquad\n",
    "from scipy.optimize import curve_fit\n",
    "from matplotlib import rcParams\n",
    "rcParams['mathtext.fontset'] = 'stix'\n",
    "rcParams['font.family'] = 'STIXGeneral'"
   ]
  },
  {
   "cell_type": "code",
   "execution_count": 279,
   "metadata": {},
   "outputs": [],
   "source": [
    "file1 = 'Datos 20 Nov.csv'\n",
    "Data1 = pd.read_csv(file1, sep=' ')\n",
    "decay1 = np.float64(Data1['N'])"
   ]
  },
  {
   "cell_type": "code",
   "execution_count": 280,
   "metadata": {},
   "outputs": [],
   "source": [
    "file2 = 'Datos 23 Nov.csv'\n",
    "Data2 = pd.read_csv(file2, sep=' ')\n",
    "decay2 = np.float64(Data2['N'])"
   ]
  },
  {
   "cell_type": "code",
   "execution_count": 281,
   "metadata": {},
   "outputs": [
    {
     "data": {
      "text/plain": [
       "(5735, 5789)"
      ]
     },
     "execution_count": 281,
     "metadata": {},
     "output_type": "execute_result"
    }
   ],
   "source": [
    "#Se desprecian los datos de no decaimiento\n",
    "\n",
    "decay1_clean = decay1[decay1 <= 30000]/1000\n",
    "decay2_clean = decay2[decay2 <= 30000]/1000\n",
    "len(decay1_clean), len(decay2_clean)"
   ]
  },
  {
   "cell_type": "code",
   "execution_count": 282,
   "metadata": {},
   "outputs": [],
   "source": [
    "counts1, bins1 = np.histogram(decay1_clean, bins = 20)\n",
    "counts2, bins2 = np.histogram(decay2_clean, bins = 60)\n"
   ]
  },
  {
   "cell_type": "code",
   "execution_count": 283,
   "metadata": {},
   "outputs": [],
   "source": [
    "new_bins1 = []\n",
    "\n",
    "for i in range(20):\n",
    "    new_bins1.append(i+0.5)"
   ]
  },
  {
   "cell_type": "code",
   "execution_count": 284,
   "metadata": {},
   "outputs": [],
   "source": [
    "new_bins2 = []\n",
    "\n",
    "for i in range(60):\n",
    "    new_bins2.append((2*i+1)/6)"
   ]
  },
  {
   "cell_type": "code",
   "execution_count": 285,
   "metadata": {},
   "outputs": [],
   "source": [
    "#función de ajuste\n",
    "\n",
    "def f(t, A, tau, B):\n",
    "    return A*np.exp(-t/tau) + B"
   ]
  },
  {
   "cell_type": "code",
   "execution_count": 286,
   "metadata": {},
   "outputs": [
    {
     "data": {
      "text/plain": [
       "(array([1122.40078974,    2.41956426,  151.96025984]),\n",
       " array([23.28939331,  0.08489623,  5.34270525]),\n",
       " array([371.74490851,   2.26508813,  54.4257059 ]),\n",
       " array([9.50289472, 0.09713288, 2.14549705]))"
      ]
     },
     "execution_count": 286,
     "metadata": {},
     "output_type": "execute_result"
    }
   ],
   "source": [
    "param1, cov1 = curve_fit(f, new_bins1,  counts1)\n",
    "param2, cov2 = curve_fit(f, new_bins2,  counts2)\n",
    "incertidumbre1 = np.sqrt(np.diag(cov1))\n",
    "incertidumbre2 = np.sqrt(np.diag(cov2))\n",
    "\n",
    "param1, incertidumbre1, param2, incertidumbre2"
   ]
  },
  {
   "cell_type": "code",
   "execution_count": 287,
   "metadata": {},
   "outputs": [],
   "source": [
    "#Se reajustan los datos con ls radiación de fondo B.\n",
    "\n",
    "fixed_counts1 = counts1 - round(param1[2])\n",
    "fixed_counts2 = counts2 - round(param2[2])\n",
    "\n",
    "def g(t, A, tau):\n",
    "    return A*np.exp(-t/tau)"
   ]
  },
  {
   "cell_type": "code",
   "execution_count": 288,
   "metadata": {},
   "outputs": [
    {
     "data": {
      "text/plain": [
       "(array([1122.40423271,    2.41921896]),\n",
       " array([22.61867037,  0.06792309]),\n",
       " array([371.70728034,   2.2758975 ]),\n",
       " array([9.40070512, 0.08125353]))"
      ]
     },
     "execution_count": 288,
     "metadata": {},
     "output_type": "execute_result"
    }
   ],
   "source": [
    "new_param1, new_cov1 = curve_fit(g, new_bins1,  fixed_counts1)\n",
    "new_param2, new_cov2 = curve_fit(g, new_bins2,  fixed_counts2)\n",
    "new_incertidumbre1 = np.sqrt(np.diag(new_cov1))\n",
    "new_incertidumbre2 = np.sqrt(np.diag(new_cov2))\n",
    "\n",
    "new_param1, new_incertidumbre1, new_param2, new_incertidumbre2"
   ]
  },
  {
   "cell_type": "code",
   "execution_count": 289,
   "metadata": {},
   "outputs": [],
   "source": [
    "x_bins = np.linspace(0, 20, 1000)"
   ]
  },
  {
   "cell_type": "code",
   "execution_count": 290,
   "metadata": {},
   "outputs": [
    {
     "data": {
      "image/png": "[encoded data removed]",
      "text/plain": [
       "<Figure size 432x288 with 1 Axes>"
      ]
     },
     "metadata": {
      "needs_background": "light"
     },
     "output_type": "display_data"
    }
   ],
   "source": [
    "#Gráfico primer set de datos\n",
    "\n",
    "plt.errorbar(new_bins1, counts1, xerr = 1/2, fmt = '.', color = 'r', )\n",
    "plt.scatter(new_bins1, counts1, color = 'r', marker = '.', label = 'Data')\n",
    "plt.plot(x_bins, f(x_bins, *param1), color = 'k', label = 'Fit')\n",
    "plt.legend()\n",
    "plt.xlabel(r'Muon Decay Time [$\\mu$s]')\n",
    "plt.ylabel(r'Events/bin')\n",
    "plt.tick_params(axis='both', colors='black')\n",
    "plt.gca().spines['bottom'].set_color('black')\n",
    "plt.gca().spines['top'].set_color('black')\n",
    "plt.gca().spines['left'].set_color('black')\n",
    "plt.gca().spines['right'].set_color('black')\n",
    "\n",
    "#plt.savefig('PrimerSet.png', dpi=600, bbox_inches='tight')"
   ]
  },
  {
   "cell_type": "code",
   "execution_count": 291,
   "metadata": {},
   "outputs": [
    {
     "data": {
      "image/png": "[encoded data removed]",
      "text/plain": [
       "<Figure size 460.8x144 with 1 Axes>"
      ]
     },
     "metadata": {
      "needs_background": "light"
     },
     "output_type": "display_data"
    }
   ],
   "source": [
    "#Residuales primer set\n",
    "\n",
    "Res1 = []\n",
    "for i in range(len(new_bins1)):\n",
    "    Res1.append(counts1[i] - f(new_bins1[i], *param1))\n",
    "\n",
    "plt.figure(figsize=(6.4,2))\n",
    "plt.scatter(new_bins1, Res1, color ='k', label = 'Data')\n",
    "plt.xlabel(r'Muon Decay Time [$\\mu$s]')\n",
    "plt.ylabel(r'Residual')\n",
    "\n",
    "plt.tick_params(axis='both', colors='black')\n",
    "plt.gca().spines['bottom'].set_color('black')\n",
    "plt.gca().spines['top'].set_color('black')\n",
    "plt.gca().spines['left'].set_color('black')\n",
    "plt.gca().spines['right'].set_color('black')\n",
    "\n",
    "#plt.savefig('ResPrimerSet.png', dpi=600, bbox_inches='tight')"
   ]
  },
  {
   "cell_type": "code",
   "execution_count": 292,
   "metadata": {},
   "outputs": [
    {
     "data": {
      "image/png": "[encoded data removed]",
      "text/plain": [
       "<Figure size 432x288 with 1 Axes>"
      ]
     },
     "metadata": {
      "needs_background": "light"
     },
     "output_type": "display_data"
    }
   ],
   "source": [
    "#Gráfico segundo set de datos\n",
    "\n",
    "plt.errorbar(new_bins2, counts2, xerr = 1/6, fmt = '.', color = 'r', )\n",
    "plt.scatter(new_bins2, counts2, color = 'r', marker = '.', label = 'Data')\n",
    "plt.plot(x_bins, f(x_bins, *param2), color = 'k', label = 'Fit')\n",
    "plt.legend()\n",
    "plt.xlabel(r'Muon Decay Time [$\\mu$s]')\n",
    "plt.ylabel(r'Events/bin')\n",
    "plt.tick_params(axis='both', colors='black')\n",
    "plt.gca().spines['bottom'].set_color('black')\n",
    "plt.gca().spines['top'].set_color('black')\n",
    "plt.gca().spines['left'].set_color('black')\n",
    "plt.gca().spines['right'].set_color('black')\n",
    "\n",
    "#plt.savefig('SegundoSet.png', dpi=600, bbox_inches='tight')\n"
   ]
  },
  {
   "cell_type": "code",
   "execution_count": 293,
   "metadata": {},
   "outputs": [
    {
     "data": {
      "image/png": "[encoded data removed]",
      "text/plain": [
       "<Figure size 460.8x144 with 1 Axes>"
      ]
     },
     "metadata": {
      "needs_background": "light"
     },
     "output_type": "display_data"
    }
   ],
   "source": [
    "#Residuales segundo set\n",
    "\n",
    "Res2 = []\n",
    "for i in range(len(new_bins2)):\n",
    "    Res2.append(counts2[i] - f(new_bins2[i], *param2))\n",
    "\n",
    "plt.figure(figsize=(6.4,2))\n",
    "plt.scatter(new_bins2, Res2, color ='k', label = 'Data')\n",
    "plt.xlabel(r'Muon Decay Time [$\\mu$s]')\n",
    "plt.ylabel(r'Residual')\n",
    "\n",
    "plt.tick_params(axis='both', colors='black')\n",
    "plt.gca().spines['bottom'].set_color('black')\n",
    "plt.gca().spines['top'].set_color('black')\n",
    "plt.gca().spines['left'].set_color('black')\n",
    "plt.gca().spines['right'].set_color('black')\n",
    "\n",
    "#plt.savefig('ResSegundoSet.png', dpi=600, bbox_inches='tight')\n"
   ]
  },
  {
   "cell_type": "code",
   "execution_count": null,
   "metadata": {},
   "outputs": [],
   "source": []
  },
  {
   "cell_type": "code",
   "execution_count": null,
   "metadata": {},
   "outputs": [],
   "source": []
  }
 ],
 "metadata": {
  "interpreter": {
   "hash": "40d3a090f54c6569ab1632332b64b2c03c39dcf918b08424e98f38b5ae0af88f"
  },
  "kernelspec": {
   "display_name": "Python 3.8.5",
   "language": "python",
   "name": "python3"
  },
  "language_info": {
   "codemirror_mode": {
    "name": "ipython",
    "version": 3
   },
   "file_extension": ".py",
   "mimetype": "text/x-python",
   "name": "python",
   "nbconvert_exporter": "python",
   "pygments_lexer": "ipython3",
   "version": "3.8.5"
  },
  "orig_nbformat": 4
 },
 "nbformat": 4,
 "nbformat_minor": 2
}
